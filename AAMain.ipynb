{
 "cells": [
  {
   "cell_type": "code",
   "execution_count": 2,
   "metadata": {},
   "outputs": [],
   "source": [
    "# import all relevant libraries\n",
    "import pandas as pd\n",
    "import numpy as np\n",
    "import uuid\n",
    "import re\n",
    "import json\n",
    "from pandas.plotting import register_matplotlib_converters\n",
    "from pandas import json_normalize\n",
    "import matplotlib.pyplot as plt"
   ]
  },
  {
   "cell_type": "code",
   "execution_count": 26,
   "metadata": {},
   "outputs": [],
   "source": [
    "charging = pd.read_csv(\"charging_sessions.csv\", encoding = \"ISO-8859-1\")"
   ]
  },
  {
   "cell_type": "code",
   "execution_count": 27,
   "metadata": {},
   "outputs": [
    {
     "data": {
      "text/html": [
       "<div>\n",
       "<style scoped>\n",
       "    .dataframe tbody tr th:only-of-type {\n",
       "        vertical-align: middle;\n",
       "    }\n",
       "\n",
       "    .dataframe tbody tr th {\n",
       "        vertical-align: top;\n",
       "    }\n",
       "\n",
       "    .dataframe thead th {\n",
       "        text-align: right;\n",
       "    }\n",
       "</style>\n",
       "<table border=\"1\" class=\"dataframe\">\n",
       "  <thead>\n",
       "    <tr style=\"text-align: right;\">\n",
       "      <th></th>\n",
       "      <th>Unnamed: 0</th>\n",
       "      <th>id</th>\n",
       "      <th>connectionTime</th>\n",
       "      <th>disconnectTime</th>\n",
       "      <th>doneChargingTime</th>\n",
       "      <th>kWhDelivered</th>\n",
       "      <th>sessionID</th>\n",
       "      <th>siteID</th>\n",
       "      <th>spaceID</th>\n",
       "      <th>stationID</th>\n",
       "      <th>timezone</th>\n",
       "      <th>userID</th>\n",
       "      <th>userInputs</th>\n",
       "    </tr>\n",
       "  </thead>\n",
       "  <tbody>\n",
       "    <tr>\n",
       "      <th>0</th>\n",
       "      <td>0</td>\n",
       "      <td>5e23b149f9af8b5fe4b973cf</td>\n",
       "      <td>2020-01-02 13:08:54+00:00</td>\n",
       "      <td>2020-01-02 19:11:15+00:00</td>\n",
       "      <td>2020-01-02 17:31:35+00:00</td>\n",
       "      <td>25.016</td>\n",
       "      <td>1_1_179_810_2020-01-02 13:08:53.870034</td>\n",
       "      <td>1</td>\n",
       "      <td>AG-3F30</td>\n",
       "      <td>1-1-179-810</td>\n",
       "      <td>America/Los_Angeles</td>\n",
       "      <td>194.0</td>\n",
       "      <td>[{'WhPerMile': 250, 'kWhRequested': 25.0, 'mil...</td>\n",
       "    </tr>\n",
       "    <tr>\n",
       "      <th>1</th>\n",
       "      <td>1</td>\n",
       "      <td>5e23b149f9af8b5fe4b973d0</td>\n",
       "      <td>2020-01-02 13:36:50+00:00</td>\n",
       "      <td>2020-01-02 22:38:21+00:00</td>\n",
       "      <td>2020-01-02 20:18:05+00:00</td>\n",
       "      <td>33.097</td>\n",
       "      <td>1_1_193_825_2020-01-02 13:36:49.599853</td>\n",
       "      <td>1</td>\n",
       "      <td>AG-1F01</td>\n",
       "      <td>1-1-193-825</td>\n",
       "      <td>America/Los_Angeles</td>\n",
       "      <td>4275.0</td>\n",
       "      <td>[{'WhPerMile': 280, 'kWhRequested': 70.0, 'mil...</td>\n",
       "    </tr>\n",
       "    <tr>\n",
       "      <th>2</th>\n",
       "      <td>2</td>\n",
       "      <td>5e23b149f9af8b5fe4b973d1</td>\n",
       "      <td>2020-01-02 13:56:35+00:00</td>\n",
       "      <td>2020-01-03 00:39:22+00:00</td>\n",
       "      <td>2020-01-02 16:35:06+00:00</td>\n",
       "      <td>6.521</td>\n",
       "      <td>1_1_193_829_2020-01-02 13:56:35.214993</td>\n",
       "      <td>1</td>\n",
       "      <td>AG-1F03</td>\n",
       "      <td>1-1-193-829</td>\n",
       "      <td>America/Los_Angeles</td>\n",
       "      <td>344.0</td>\n",
       "      <td>[{'WhPerMile': 400, 'kWhRequested': 8.0, 'mile...</td>\n",
       "    </tr>\n",
       "    <tr>\n",
       "      <th>3</th>\n",
       "      <td>3</td>\n",
       "      <td>5e23b149f9af8b5fe4b973d2</td>\n",
       "      <td>2020-01-02 13:59:58+00:00</td>\n",
       "      <td>2020-01-02 16:38:39+00:00</td>\n",
       "      <td>2020-01-02 15:18:45+00:00</td>\n",
       "      <td>2.355</td>\n",
       "      <td>1_1_193_820_2020-01-02 13:59:58.309319</td>\n",
       "      <td>1</td>\n",
       "      <td>AG-1F04</td>\n",
       "      <td>1-1-193-820</td>\n",
       "      <td>America/Los_Angeles</td>\n",
       "      <td>1117.0</td>\n",
       "      <td>[{'WhPerMile': 400, 'kWhRequested': 8.0, 'mile...</td>\n",
       "    </tr>\n",
       "    <tr>\n",
       "      <th>4</th>\n",
       "      <td>4</td>\n",
       "      <td>5e23b149f9af8b5fe4b973d3</td>\n",
       "      <td>2020-01-02 14:00:01+00:00</td>\n",
       "      <td>2020-01-02 22:08:40+00:00</td>\n",
       "      <td>2020-01-02 18:17:30+00:00</td>\n",
       "      <td>13.375</td>\n",
       "      <td>1_1_193_819_2020-01-02 14:00:00.779967</td>\n",
       "      <td>1</td>\n",
       "      <td>AG-1F06</td>\n",
       "      <td>1-1-193-819</td>\n",
       "      <td>America/Los_Angeles</td>\n",
       "      <td>334.0</td>\n",
       "      <td>[{'WhPerMile': 400, 'kWhRequested': 16.0, 'mil...</td>\n",
       "    </tr>\n",
       "  </tbody>\n",
       "</table>\n",
       "</div>"
      ],
      "text/plain": [
       "   Unnamed: 0                        id             connectionTime  \\\n",
       "0           0  5e23b149f9af8b5fe4b973cf  2020-01-02 13:08:54+00:00   \n",
       "1           1  5e23b149f9af8b5fe4b973d0  2020-01-02 13:36:50+00:00   \n",
       "2           2  5e23b149f9af8b5fe4b973d1  2020-01-02 13:56:35+00:00   \n",
       "3           3  5e23b149f9af8b5fe4b973d2  2020-01-02 13:59:58+00:00   \n",
       "4           4  5e23b149f9af8b5fe4b973d3  2020-01-02 14:00:01+00:00   \n",
       "\n",
       "              disconnectTime           doneChargingTime  kWhDelivered  \\\n",
       "0  2020-01-02 19:11:15+00:00  2020-01-02 17:31:35+00:00        25.016   \n",
       "1  2020-01-02 22:38:21+00:00  2020-01-02 20:18:05+00:00        33.097   \n",
       "2  2020-01-03 00:39:22+00:00  2020-01-02 16:35:06+00:00         6.521   \n",
       "3  2020-01-02 16:38:39+00:00  2020-01-02 15:18:45+00:00         2.355   \n",
       "4  2020-01-02 22:08:40+00:00  2020-01-02 18:17:30+00:00        13.375   \n",
       "\n",
       "                                sessionID  siteID  spaceID    stationID  \\\n",
       "0  1_1_179_810_2020-01-02 13:08:53.870034       1  AG-3F30  1-1-179-810   \n",
       "1  1_1_193_825_2020-01-02 13:36:49.599853       1  AG-1F01  1-1-193-825   \n",
       "2  1_1_193_829_2020-01-02 13:56:35.214993       1  AG-1F03  1-1-193-829   \n",
       "3  1_1_193_820_2020-01-02 13:59:58.309319       1  AG-1F04  1-1-193-820   \n",
       "4  1_1_193_819_2020-01-02 14:00:00.779967       1  AG-1F06  1-1-193-819   \n",
       "\n",
       "              timezone  userID  \\\n",
       "0  America/Los_Angeles   194.0   \n",
       "1  America/Los_Angeles  4275.0   \n",
       "2  America/Los_Angeles   344.0   \n",
       "3  America/Los_Angeles  1117.0   \n",
       "4  America/Los_Angeles   334.0   \n",
       "\n",
       "                                          userInputs  \n",
       "0  [{'WhPerMile': 250, 'kWhRequested': 25.0, 'mil...  \n",
       "1  [{'WhPerMile': 280, 'kWhRequested': 70.0, 'mil...  \n",
       "2  [{'WhPerMile': 400, 'kWhRequested': 8.0, 'mile...  \n",
       "3  [{'WhPerMile': 400, 'kWhRequested': 8.0, 'mile...  \n",
       "4  [{'WhPerMile': 400, 'kWhRequested': 16.0, 'mil...  "
      ]
     },
     "execution_count": 27,
     "metadata": {},
     "output_type": "execute_result"
    }
   ],
   "source": [
    "charging.head()"
   ]
  },
  {
   "cell_type": "code",
   "execution_count": 28,
   "metadata": {},
   "outputs": [
    {
     "name": "stdout",
     "output_type": "stream",
     "text": [
      "<class 'pandas.core.frame.DataFrame'>\n",
      "RangeIndex: 66450 entries, 0 to 66449\n",
      "Data columns (total 13 columns):\n",
      " #   Column            Non-Null Count  Dtype  \n",
      "---  ------            --------------  -----  \n",
      " 0   Unnamed: 0        66450 non-null  int64  \n",
      " 1   id                66450 non-null  object \n",
      " 2   connectionTime    66450 non-null  object \n",
      " 3   disconnectTime    66450 non-null  object \n",
      " 4   doneChargingTime  62362 non-null  object \n",
      " 5   kWhDelivered      66450 non-null  float64\n",
      " 6   sessionID         66450 non-null  object \n",
      " 7   siteID            66450 non-null  int64  \n",
      " 8   spaceID           66450 non-null  object \n",
      " 9   stationID         66450 non-null  object \n",
      " 10  timezone          66450 non-null  object \n",
      " 11  userID            49187 non-null  float64\n",
      " 12  userInputs        49187 non-null  object \n",
      "dtypes: float64(2), int64(2), object(9)\n",
      "memory usage: 6.6+ MB\n"
     ]
    }
   ],
   "source": [
    "charging.info()"
   ]
  },
  {
   "cell_type": "code",
   "execution_count": 29,
   "metadata": {},
   "outputs": [
    {
     "name": "stdout",
     "output_type": "stream",
     "text": [
      "<class 'pandas.core.frame.DataFrame'>\n",
      "RangeIndex: 66450 entries, 0 to 66449\n",
      "Data columns (total 12 columns):\n",
      " #   Column            Non-Null Count  Dtype              \n",
      "---  ------            --------------  -----              \n",
      " 0   id                66450 non-null  object             \n",
      " 1   connectionTime    66450 non-null  datetime64[ns, UTC]\n",
      " 2   disconnectTime    66450 non-null  datetime64[ns, UTC]\n",
      " 3   doneChargingTime  62362 non-null  datetime64[ns, UTC]\n",
      " 4   kWhDelivered      66450 non-null  float64            \n",
      " 5   sessionID         66450 non-null  object             \n",
      " 6   siteID            66450 non-null  int64              \n",
      " 7   spaceID           66450 non-null  object             \n",
      " 8   stationID         66450 non-null  object             \n",
      " 9   timezone          66450 non-null  object             \n",
      " 10  userID            66450 non-null  int32              \n",
      " 11  userInputs        49187 non-null  object             \n",
      "dtypes: datetime64[ns, UTC](3), float64(1), int32(1), int64(1), object(6)\n",
      "memory usage: 5.8+ MB\n"
     ]
    }
   ],
   "source": [
    "charging = charging.drop(columns=['Unnamed: 0']).reset_index(drop=True)\n",
    "\n",
    "charging['connectionTime'] = pd.to_datetime(charging['connectionTime'])\n",
    "charging['disconnectTime'] = pd.to_datetime(charging['disconnectTime'])\n",
    "charging['doneChargingTime'] = pd.to_datetime(charging['doneChargingTime'])\n",
    "\n",
    "#id sind floats in CSV aber sind alle ints\n",
    "#null werte zu 0.0 umwandeln\n",
    "charging['userID'] = charging['userID'].fillna(0.0)\n",
    "charging['userID'] = charging['userID'].astype(int)\n",
    "\n",
    "charging.info()"
   ]
  },
  {
   "cell_type": "code",
   "execution_count": 30,
   "metadata": {},
   "outputs": [
    {
     "name": "stdout",
     "output_type": "stream",
     "text": [
      "<class 'pandas.core.frame.DataFrame'>\n",
      "RangeIndex: 66450 entries, 0 to 66449\n",
      "Data columns (total 19 columns):\n",
      " #   Column                         Non-Null Count  Dtype              \n",
      "---  ------                         --------------  -----              \n",
      " 0   id                             66450 non-null  object             \n",
      " 1   connectionTime                 66450 non-null  datetime64[ns, UTC]\n",
      " 2   disconnectTime                 66450 non-null  datetime64[ns, UTC]\n",
      " 3   doneChargingTime               62362 non-null  datetime64[ns, UTC]\n",
      " 4   kWhDelivered                   66450 non-null  float64            \n",
      " 5   sessionID                      66450 non-null  object             \n",
      " 6   siteID                         66450 non-null  int64              \n",
      " 7   spaceID                        66450 non-null  object             \n",
      " 8   stationID                      66450 non-null  object             \n",
      " 9   timezone                       66450 non-null  object             \n",
      " 10  userID                         66450 non-null  int32              \n",
      " 11  userInputs_WhPerMile           49583 non-null  float64            \n",
      " 12  userInputs_kWhRequested        49583 non-null  float64            \n",
      " 13  userInputs_milesRequested      49583 non-null  float64            \n",
      " 14  userInputs_minutesAvailable    49583 non-null  float64            \n",
      " 15  userInputs_modifiedAt          49583 non-null  object             \n",
      " 16  userInputs_paymentRequired     49583 non-null  object             \n",
      " 17  userInputs_requestedDeparture  49583 non-null  object             \n",
      " 18  userInputs_userID              66450 non-null  int32              \n",
      "dtypes: datetime64[ns, UTC](3), float64(5), int32(2), int64(1), object(8)\n",
      "memory usage: 9.1+ MB\n"
     ]
    }
   ],
   "source": [
    "def parse_json(x):\n",
    "    if isinstance(x, str):\n",
    "        x = x.replace(\"'\", '\"').strip()\n",
    "        x = re.sub(r'\\bTrue\\b', 'true', x)\n",
    "        x = re.sub(r'\\bFalse\\b', 'false', x)    \n",
    "        try:\n",
    "            return json.loads(x)\n",
    "        except json.JSONDecodeError as e:\n",
    "            print(f\"Error parsing JSON: {e} | Input: {x}\")  # Print error and input\n",
    "            return []  # Return an empty list if parsing fails\n",
    "    return []\n",
    "\n",
    "charging['userInputs'] = charging['userInputs'].apply(parse_json)\n",
    "user_inputs_expanded = json_normalize(charging['userInputs'].explode()).add_prefix('userInputs_')\n",
    "charging = charging.drop(columns=['userInputs']).reset_index(drop=True).join(user_inputs_expanded.reset_index(drop=True))\n",
    "\n",
    "charging['userInputs_userID'] = charging['userID'].astype(int)\n",
    "\n",
    "charging.info()"
   ]
  },
  {
   "cell_type": "code",
   "execution_count": 31,
   "metadata": {},
   "outputs": [
    {
     "data": {
      "text/plain": [
       "count     66450\n",
       "unique        1\n",
       "top        True\n",
       "freq      66450\n",
       "Name: userID_matches, dtype: object"
      ]
     },
     "execution_count": 31,
     "metadata": {},
     "output_type": "execute_result"
    }
   ],
   "source": [
    "#check if userInputs_userID always equal to userID\n",
    "# \n",
    "charging['userID_matches'] = charging['userID'] == charging['userInputs_userID']\n",
    "charging['userID_matches'].describe()"
   ]
  },
  {
   "cell_type": "code",
   "execution_count": 32,
   "metadata": {},
   "outputs": [
    {
     "name": "stdout",
     "output_type": "stream",
     "text": [
      "<class 'pandas.core.frame.DataFrame'>\n",
      "RangeIndex: 66450 entries, 0 to 66449\n",
      "Data columns (total 18 columns):\n",
      " #   Column                         Non-Null Count  Dtype              \n",
      "---  ------                         --------------  -----              \n",
      " 0   id                             66450 non-null  object             \n",
      " 1   connectionTime                 66450 non-null  datetime64[ns, UTC]\n",
      " 2   disconnectTime                 66450 non-null  datetime64[ns, UTC]\n",
      " 3   doneChargingTime               62362 non-null  datetime64[ns, UTC]\n",
      " 4   kWhDelivered                   66450 non-null  float64            \n",
      " 5   sessionID                      66450 non-null  object             \n",
      " 6   siteID                         66450 non-null  int64              \n",
      " 7   spaceID                        66450 non-null  object             \n",
      " 8   stationID                      66450 non-null  object             \n",
      " 9   timezone                       66450 non-null  object             \n",
      " 10  userID                         66450 non-null  int32              \n",
      " 11  userInputs_WhPerMile           49583 non-null  float64            \n",
      " 12  userInputs_kWhRequested        49583 non-null  float64            \n",
      " 13  userInputs_milesRequested      49583 non-null  float64            \n",
      " 14  userInputs_minutesAvailable    49583 non-null  float64            \n",
      " 15  userInputs_modifiedAt          49583 non-null  object             \n",
      " 16  userInputs_paymentRequired     49583 non-null  object             \n",
      " 17  userInputs_requestedDeparture  49583 non-null  object             \n",
      "dtypes: datetime64[ns, UTC](3), float64(5), int32(1), int64(1), object(8)\n",
      "memory usage: 8.9+ MB\n"
     ]
    }
   ],
   "source": [
    "charging = charging.drop(columns=['userID_matches']).reset_index(drop=True)\n",
    "charging = charging.drop(columns=['userInputs_userID']).reset_index(drop=True)\n",
    "charging.info()"
   ]
  },
  {
   "cell_type": "code",
   "execution_count": 33,
   "metadata": {},
   "outputs": [
    {
     "data": {
      "text/plain": [
       "count     66450\n",
       "unique        2\n",
       "top        True\n",
       "freq      38361\n",
       "Name: date_matches, dtype: object"
      ]
     },
     "execution_count": 33,
     "metadata": {},
     "output_type": "execute_result"
    }
   ],
   "source": [
    "charging['connectionDay'] = charging['connectionTime'].dt.date\n",
    "charging['disconnectionDay'] = charging['disconnectTime'].dt.date\n",
    "\n",
    "charging['date_matches'] = charging['connectionDay'] == charging['disconnectionDay']\n",
    "charging['date_matches'].describe()\n"
   ]
  },
  {
   "cell_type": "markdown",
   "metadata": {},
   "source": [
    "*not all loading processes start and end on the same day*"
   ]
  },
  {
   "cell_type": "markdown",
   "metadata": {},
   "source": [
    "proposed solution: split charging processes on 2 different dates into 2 with uniform distribution of kWhDelivered and first start time + 0:00 and second 0:00 + end time\n",
    "**this is only necessary when checking charging processes based on day**"
   ]
  },
  {
   "cell_type": "code",
   "execution_count": 34,
   "metadata": {},
   "outputs": [
    {
     "name": "stdout",
     "output_type": "stream",
     "text": [
      "<class 'pandas.core.frame.DataFrame'>\n",
      "RangeIndex: 66450 entries, 0 to 66449\n",
      "Data columns (total 21 columns):\n",
      " #   Column                         Non-Null Count  Dtype              \n",
      "---  ------                         --------------  -----              \n",
      " 0   id                             66450 non-null  object             \n",
      " 1   connectionTime                 66450 non-null  datetime64[ns, UTC]\n",
      " 2   disconnectTime                 66450 non-null  datetime64[ns, UTC]\n",
      " 3   doneChargingTime               62362 non-null  datetime64[ns, UTC]\n",
      " 4   kWhDelivered                   66450 non-null  float64            \n",
      " 5   sessionID                      66450 non-null  object             \n",
      " 6   siteID                         66450 non-null  int64              \n",
      " 7   spaceID                        66450 non-null  object             \n",
      " 8   stationID                      66450 non-null  object             \n",
      " 9   timezone                       66450 non-null  object             \n",
      " 10  userID                         66450 non-null  int32              \n",
      " 11  userInputs_WhPerMile           49583 non-null  float64            \n",
      " 12  userInputs_kWhRequested        49583 non-null  float64            \n",
      " 13  userInputs_milesRequested      49583 non-null  float64            \n",
      " 14  userInputs_minutesAvailable    49583 non-null  float64            \n",
      " 15  userInputs_modifiedAt          49583 non-null  object             \n",
      " 16  userInputs_paymentRequired     49583 non-null  object             \n",
      " 17  userInputs_requestedDeparture  49583 non-null  object             \n",
      " 18  connectionDay                  66450 non-null  object             \n",
      " 19  disconnectionDay               66450 non-null  object             \n",
      " 20  date_matches                   66450 non-null  bool               \n",
      "dtypes: bool(1), datetime64[ns, UTC](3), float64(5), int32(1), int64(1), object(10)\n",
      "memory usage: 9.9+ MB\n"
     ]
    }
   ],
   "source": [
    "charging.info()"
   ]
  },
  {
   "cell_type": "markdown",
   "metadata": {},
   "source": [
    "doneChargingTime == NULL could be considered as a car not being charged the entire requested kWh "
   ]
  },
  {
   "cell_type": "code",
   "execution_count": 35,
   "metadata": {},
   "outputs": [
    {
     "name": "stdout",
     "output_type": "stream",
     "text": [
      "107\n"
     ]
    }
   ],
   "source": [
    "unique_stations = charging[\"stationID\"].nunique()\n",
    "print(unique_stations)"
   ]
  },
  {
   "cell_type": "code",
   "execution_count": 36,
   "metadata": {},
   "outputs": [
    {
     "name": "stdout",
     "output_type": "stream",
     "text": [
      "107\n"
     ]
    }
   ],
   "source": [
    "unique_parking_spaces = charging[\"spaceID\"].nunique()\n",
    "print(unique_parking_spaces)"
   ]
  },
  {
   "cell_type": "code",
   "execution_count": 37,
   "metadata": {},
   "outputs": [
    {
     "name": "stdout",
     "output_type": "stream",
     "text": [
      "2\n"
     ]
    }
   ],
   "source": [
    "unique_sites = charging[\"siteID\"].nunique()\n",
    "print(unique_sites)"
   ]
  },
  {
   "cell_type": "markdown",
   "metadata": {},
   "source": [
    "2 sites with 107 overall charging stations"
   ]
  },
  {
   "cell_type": "code",
   "execution_count": 38,
   "metadata": {},
   "outputs": [
    {
     "name": "stdout",
     "output_type": "stream",
     "text": [
      "Number of different timezone values: 1\n"
     ]
    }
   ],
   "source": [
    "timezone_unique_values = charging['timezone'].nunique()\n",
    "print(\"Number of different timezone values:\", timezone_unique_values)\n"
   ]
  },
  {
   "cell_type": "markdown",
   "metadata": {},
   "source": [
    "As we can see, the timezone value for all variables is exactly the same. This doesn't help us for the anlayisis, therefore we can drop this column"
   ]
  },
  {
   "cell_type": "code",
   "execution_count": 39,
   "metadata": {},
   "outputs": [
    {
     "data": {
      "text/html": [
       "<div>\n",
       "<style scoped>\n",
       "    .dataframe tbody tr th:only-of-type {\n",
       "        vertical-align: middle;\n",
       "    }\n",
       "\n",
       "    .dataframe tbody tr th {\n",
       "        vertical-align: top;\n",
       "    }\n",
       "\n",
       "    .dataframe thead th {\n",
       "        text-align: right;\n",
       "    }\n",
       "</style>\n",
       "<table border=\"1\" class=\"dataframe\">\n",
       "  <thead>\n",
       "    <tr style=\"text-align: right;\">\n",
       "      <th></th>\n",
       "      <th>id</th>\n",
       "      <th>connectionTime</th>\n",
       "      <th>disconnectTime</th>\n",
       "      <th>doneChargingTime</th>\n",
       "      <th>kWhDelivered</th>\n",
       "      <th>sessionID</th>\n",
       "      <th>siteID</th>\n",
       "      <th>spaceID</th>\n",
       "      <th>stationID</th>\n",
       "      <th>userID</th>\n",
       "      <th>userInputs_WhPerMile</th>\n",
       "      <th>userInputs_kWhRequested</th>\n",
       "      <th>userInputs_milesRequested</th>\n",
       "      <th>userInputs_minutesAvailable</th>\n",
       "      <th>userInputs_modifiedAt</th>\n",
       "      <th>userInputs_paymentRequired</th>\n",
       "      <th>userInputs_requestedDeparture</th>\n",
       "      <th>connectionDay</th>\n",
       "      <th>disconnectionDay</th>\n",
       "      <th>date_matches</th>\n",
       "    </tr>\n",
       "  </thead>\n",
       "  <tbody>\n",
       "    <tr>\n",
       "      <th>0</th>\n",
       "      <td>5e23b149f9af8b5fe4b973cf</td>\n",
       "      <td>2020-01-02 13:08:54+00:00</td>\n",
       "      <td>2020-01-02 19:11:15+00:00</td>\n",
       "      <td>2020-01-02 17:31:35+00:00</td>\n",
       "      <td>25.016</td>\n",
       "      <td>1_1_179_810_2020-01-02 13:08:53.870034</td>\n",
       "      <td>1</td>\n",
       "      <td>AG-3F30</td>\n",
       "      <td>1-1-179-810</td>\n",
       "      <td>194</td>\n",
       "      <td>250.0</td>\n",
       "      <td>25.0</td>\n",
       "      <td>100.0</td>\n",
       "      <td>463.0</td>\n",
       "      <td>Thu, 02 Jan 2020 13:09:39 GMT</td>\n",
       "      <td>True</td>\n",
       "      <td>Thu, 02 Jan 2020 20:51:54 GMT</td>\n",
       "      <td>2020-01-02</td>\n",
       "      <td>2020-01-02</td>\n",
       "      <td>True</td>\n",
       "    </tr>\n",
       "    <tr>\n",
       "      <th>1</th>\n",
       "      <td>5e23b149f9af8b5fe4b973d0</td>\n",
       "      <td>2020-01-02 13:36:50+00:00</td>\n",
       "      <td>2020-01-02 22:38:21+00:00</td>\n",
       "      <td>2020-01-02 20:18:05+00:00</td>\n",
       "      <td>33.097</td>\n",
       "      <td>1_1_193_825_2020-01-02 13:36:49.599853</td>\n",
       "      <td>1</td>\n",
       "      <td>AG-1F01</td>\n",
       "      <td>1-1-193-825</td>\n",
       "      <td>4275</td>\n",
       "      <td>280.0</td>\n",
       "      <td>70.0</td>\n",
       "      <td>250.0</td>\n",
       "      <td>595.0</td>\n",
       "      <td>Thu, 02 Jan 2020 13:37:11 GMT</td>\n",
       "      <td>True</td>\n",
       "      <td>Thu, 02 Jan 2020 23:31:50 GMT</td>\n",
       "      <td>2020-01-02</td>\n",
       "      <td>2020-01-02</td>\n",
       "      <td>True</td>\n",
       "    </tr>\n",
       "    <tr>\n",
       "      <th>2</th>\n",
       "      <td>5e23b149f9af8b5fe4b973d1</td>\n",
       "      <td>2020-01-02 13:56:35+00:00</td>\n",
       "      <td>2020-01-03 00:39:22+00:00</td>\n",
       "      <td>2020-01-02 16:35:06+00:00</td>\n",
       "      <td>6.521</td>\n",
       "      <td>1_1_193_829_2020-01-02 13:56:35.214993</td>\n",
       "      <td>1</td>\n",
       "      <td>AG-1F03</td>\n",
       "      <td>1-1-193-829</td>\n",
       "      <td>344</td>\n",
       "      <td>400.0</td>\n",
       "      <td>8.0</td>\n",
       "      <td>20.0</td>\n",
       "      <td>60.0</td>\n",
       "      <td>Thu, 02 Jan 2020 13:57:17 GMT</td>\n",
       "      <td>True</td>\n",
       "      <td>Thu, 02 Jan 2020 14:56:35 GMT</td>\n",
       "      <td>2020-01-02</td>\n",
       "      <td>2020-01-03</td>\n",
       "      <td>False</td>\n",
       "    </tr>\n",
       "    <tr>\n",
       "      <th>3</th>\n",
       "      <td>5e23b149f9af8b5fe4b973d2</td>\n",
       "      <td>2020-01-02 13:59:58+00:00</td>\n",
       "      <td>2020-01-02 16:38:39+00:00</td>\n",
       "      <td>2020-01-02 15:18:45+00:00</td>\n",
       "      <td>2.355</td>\n",
       "      <td>1_1_193_820_2020-01-02 13:59:58.309319</td>\n",
       "      <td>1</td>\n",
       "      <td>AG-1F04</td>\n",
       "      <td>1-1-193-820</td>\n",
       "      <td>1117</td>\n",
       "      <td>400.0</td>\n",
       "      <td>8.0</td>\n",
       "      <td>20.0</td>\n",
       "      <td>65.0</td>\n",
       "      <td>Thu, 02 Jan 2020 14:00:03 GMT</td>\n",
       "      <td>True</td>\n",
       "      <td>Thu, 02 Jan 2020 15:04:58 GMT</td>\n",
       "      <td>2020-01-02</td>\n",
       "      <td>2020-01-02</td>\n",
       "      <td>True</td>\n",
       "    </tr>\n",
       "    <tr>\n",
       "      <th>4</th>\n",
       "      <td>5e23b149f9af8b5fe4b973d3</td>\n",
       "      <td>2020-01-02 14:00:01+00:00</td>\n",
       "      <td>2020-01-02 22:08:40+00:00</td>\n",
       "      <td>2020-01-02 18:17:30+00:00</td>\n",
       "      <td>13.375</td>\n",
       "      <td>1_1_193_819_2020-01-02 14:00:00.779967</td>\n",
       "      <td>1</td>\n",
       "      <td>AG-1F06</td>\n",
       "      <td>1-1-193-819</td>\n",
       "      <td>334</td>\n",
       "      <td>400.0</td>\n",
       "      <td>8.0</td>\n",
       "      <td>20.0</td>\n",
       "      <td>65.0</td>\n",
       "      <td>Thu, 02 Jan 2020 14:00:19 GMT</td>\n",
       "      <td>True</td>\n",
       "      <td>Thu, 02 Jan 2020 15:04:58 GMT</td>\n",
       "      <td>2020-01-02</td>\n",
       "      <td>2020-01-02</td>\n",
       "      <td>True</td>\n",
       "    </tr>\n",
       "  </tbody>\n",
       "</table>\n",
       "</div>"
      ],
      "text/plain": [
       "                         id            connectionTime  \\\n",
       "0  5e23b149f9af8b5fe4b973cf 2020-01-02 13:08:54+00:00   \n",
       "1  5e23b149f9af8b5fe4b973d0 2020-01-02 13:36:50+00:00   \n",
       "2  5e23b149f9af8b5fe4b973d1 2020-01-02 13:56:35+00:00   \n",
       "3  5e23b149f9af8b5fe4b973d2 2020-01-02 13:59:58+00:00   \n",
       "4  5e23b149f9af8b5fe4b973d3 2020-01-02 14:00:01+00:00   \n",
       "\n",
       "             disconnectTime          doneChargingTime  kWhDelivered  \\\n",
       "0 2020-01-02 19:11:15+00:00 2020-01-02 17:31:35+00:00        25.016   \n",
       "1 2020-01-02 22:38:21+00:00 2020-01-02 20:18:05+00:00        33.097   \n",
       "2 2020-01-03 00:39:22+00:00 2020-01-02 16:35:06+00:00         6.521   \n",
       "3 2020-01-02 16:38:39+00:00 2020-01-02 15:18:45+00:00         2.355   \n",
       "4 2020-01-02 22:08:40+00:00 2020-01-02 18:17:30+00:00        13.375   \n",
       "\n",
       "                                sessionID  siteID  spaceID    stationID  \\\n",
       "0  1_1_179_810_2020-01-02 13:08:53.870034       1  AG-3F30  1-1-179-810   \n",
       "1  1_1_193_825_2020-01-02 13:36:49.599853       1  AG-1F01  1-1-193-825   \n",
       "2  1_1_193_829_2020-01-02 13:56:35.214993       1  AG-1F03  1-1-193-829   \n",
       "3  1_1_193_820_2020-01-02 13:59:58.309319       1  AG-1F04  1-1-193-820   \n",
       "4  1_1_193_819_2020-01-02 14:00:00.779967       1  AG-1F06  1-1-193-819   \n",
       "\n",
       "   userID  userInputs_WhPerMile  userInputs_kWhRequested  \\\n",
       "0     194                 250.0                     25.0   \n",
       "1    4275                 280.0                     70.0   \n",
       "2     344                 400.0                      8.0   \n",
       "3    1117                 400.0                      8.0   \n",
       "4     334                 400.0                      8.0   \n",
       "\n",
       "   userInputs_milesRequested  userInputs_minutesAvailable  \\\n",
       "0                      100.0                        463.0   \n",
       "1                      250.0                        595.0   \n",
       "2                       20.0                         60.0   \n",
       "3                       20.0                         65.0   \n",
       "4                       20.0                         65.0   \n",
       "\n",
       "           userInputs_modifiedAt userInputs_paymentRequired  \\\n",
       "0  Thu, 02 Jan 2020 13:09:39 GMT                       True   \n",
       "1  Thu, 02 Jan 2020 13:37:11 GMT                       True   \n",
       "2  Thu, 02 Jan 2020 13:57:17 GMT                       True   \n",
       "3  Thu, 02 Jan 2020 14:00:03 GMT                       True   \n",
       "4  Thu, 02 Jan 2020 14:00:19 GMT                       True   \n",
       "\n",
       "   userInputs_requestedDeparture connectionDay disconnectionDay  date_matches  \n",
       "0  Thu, 02 Jan 2020 20:51:54 GMT    2020-01-02       2020-01-02          True  \n",
       "1  Thu, 02 Jan 2020 23:31:50 GMT    2020-01-02       2020-01-02          True  \n",
       "2  Thu, 02 Jan 2020 14:56:35 GMT    2020-01-02       2020-01-03         False  \n",
       "3  Thu, 02 Jan 2020 15:04:58 GMT    2020-01-02       2020-01-02          True  \n",
       "4  Thu, 02 Jan 2020 15:04:58 GMT    2020-01-02       2020-01-02          True  "
      ]
     },
     "execution_count": 39,
     "metadata": {},
     "output_type": "execute_result"
    }
   ],
   "source": [
    "#insert here code for dropping column 'timezone'\n",
    "charging = charging.drop(columns=['timezone'])\n",
    "charging.head()\n"
   ]
  },
  {
   "cell_type": "markdown",
   "metadata": {},
   "source": [
    "chargingTime could later be used to show how many people leave their cars plugged in after they are fully charged, blocking the station for other potential customers and causing higher demand.\n",
    "\n",
    "Computing the number of null rows for chargingTime:"
   ]
  },
  {
   "cell_type": "code",
   "execution_count": 40,
   "metadata": {},
   "outputs": [
    {
     "name": "stdout",
     "output_type": "stream",
     "text": [
      "Non-null rows: 62362\n",
      "Null rows: 4088\n",
      "Percentage of null values: 6.15%\n"
     ]
    }
   ],
   "source": [
    "# Compute all non-null rows of the dataset\n",
    "total_rows = len(charging)\n",
    "\n",
    "non_null_values_doneCharging = charging['doneChargingTime'].count()\n",
    "null_count = total_rows - non_null_values_doneCharging\n",
    "null_percentage = (null_count / total_rows) * 100\n",
    "\n",
    "print(f'Non-null rows: {non_null_values_doneCharging}')\n",
    "print(f'Null rows: {null_count}')\n",
    "print(f'Percentage of null values: {null_percentage:.2f}%')\n"
   ]
  },
  {
   "cell_type": "markdown",
   "metadata": {},
   "source": [
    "-doneCharging could be either set to disconnectTime or splitting data in disconnectTime==null and disconnectTime!=null\n",
    "->Our approach: When doneCharging is null, we replace the missing value with disconnectTime"
   ]
  },
  {
   "cell_type": "code",
   "execution_count": 41,
   "metadata": {},
   "outputs": [],
   "source": [
    "# set missing doneChargingTime cell values to disconnectTime\n",
    "charging['doneChargingTime'] = charging['doneChargingTime'].fillna(charging['disconnectTime'])"
   ]
  },
  {
   "cell_type": "code",
   "execution_count": 42,
   "metadata": {},
   "outputs": [
    {
     "name": "stdout",
     "output_type": "stream",
     "text": [
      "id                                   0\n",
      "connectionTime                       0\n",
      "disconnectTime                       0\n",
      "doneChargingTime                     0\n",
      "kWhDelivered                         0\n",
      "sessionID                            0\n",
      "siteID                               0\n",
      "spaceID                              0\n",
      "stationID                            0\n",
      "userID                               0\n",
      "userInputs_WhPerMile             16867\n",
      "userInputs_kWhRequested          16867\n",
      "userInputs_milesRequested        16867\n",
      "userInputs_minutesAvailable      16867\n",
      "userInputs_modifiedAt            16867\n",
      "userInputs_paymentRequired       16867\n",
      "userInputs_requestedDeparture    16867\n",
      "connectionDay                        0\n",
      "disconnectionDay                     0\n",
      "date_matches                         0\n",
      "dtype: int64\n"
     ]
    }
   ],
   "source": [
    "print(charging.isnull().sum())"
   ]
  },
  {
   "cell_type": "markdown",
   "metadata": {},
   "source": [
    "Main question here: How to proceed with userInputs? -> Solution: We can replace them with the mean of all other rows"
   ]
  },
  {
   "cell_type": "markdown",
   "metadata": {},
   "source": [
    "Important observaton: UserID and userInput have the same amount of null values \n",
    "\n",
    "This implies that user who didn't gave their input ID also didn't gave any user Input. There are multiple explanations for this:\n",
    "1. These are unregistered users which were mentioned in the task\n",
    "2. User just didn't use the application\n",
    "\n",
    "In both cases, it isn't that optimal because we miss important information\n",
    "->For later tasks: we could encourage app/userinput use(e.g. giving discounts for recurring recorded chargings with inputs) so that user uses applications in order to get more information about charging stations"
   ]
  },
  {
   "cell_type": "code",
   "execution_count": 43,
   "metadata": {},
   "outputs": [
    {
     "data": {
      "image/png": "[encoded data removed]",
      "text/plain": [
       "<Figure size 500x500 with 1 Axes>"
      ]
     },
     "metadata": {},
     "output_type": "display_data"
    },
    {
     "name": "stdout",
     "output_type": "stream",
     "text": [
      "Number of rows for Site 1: 35042\n",
      "Number of rows for Site 2: 31408\n"
     ]
    }
   ],
   "source": [
    "null_proportion = charging.groupby('siteID')['userInputs_kWhRequested'].apply(lambda x: x.isnull().mean() * 100)\n",
    "\n",
    "# show visually how many percent of each site gave null values\n",
    "null_proportion.plot(kind='bar', color='skyblue', figsize=(5, 5))\n",
    "plt.title('Proportion of null userInputs by Site')\n",
    "plt.ylabel('Percentage of Null Values in %')\n",
    "plt.xlabel('SiteID')\n",
    "plt.xticks(rotation=0)\n",
    "plt.show()\n",
    "\n",
    "\n",
    "print(f\"Number of rows for Site 1: {charging[charging['siteID'] == 1].shape[0]}\")\n",
    "print(f\"Number of rows for Site 2: {charging[charging['siteID'] == 2].shape[0]}\")\n"
   ]
  },
  {
   "cell_type": "code",
   "execution_count": 44,
   "metadata": {},
   "outputs": [
    {
     "name": "stdout",
     "output_type": "stream",
     "text": [
      "Total kWhDelivered (null userInputs): 173901.26\n",
      "Total kWhDelivered (not null userInputs): 609405.78\n"
     ]
    }
   ],
   "source": [
    "print(f\"Total kWhDelivered (null userInputs): {charging.loc[charging['userInputs_kWhRequested'].isnull(), 'kWhDelivered'].sum():.2f}\")\n",
    "print(f\"Total kWhDelivered (not null userInputs): {charging.loc[charging['userInputs_kWhRequested'].notnull(), 'kWhDelivered'].sum():.2f}\")"
   ]
  },
  {
   "cell_type": "markdown",
   "metadata": {},
   "source": [
    "This shows that site 1 produces less kwh than site 2 -> indication that site 2, might be public because everyone has access to it?"
   ]
  },
  {
   "cell_type": "code",
   "execution_count": 45,
   "metadata": {},
   "outputs": [
    {
     "data": {
      "text/html": [
       "<div>\n",
       "<style scoped>\n",
       "    .dataframe tbody tr th:only-of-type {\n",
       "        vertical-align: middle;\n",
       "    }\n",
       "\n",
       "    .dataframe tbody tr th {\n",
       "        vertical-align: top;\n",
       "    }\n",
       "\n",
       "    .dataframe thead th {\n",
       "        text-align: right;\n",
       "    }\n",
       "</style>\n",
       "<table border=\"1\" class=\"dataframe\">\n",
       "  <thead>\n",
       "    <tr style=\"text-align: right;\">\n",
       "      <th></th>\n",
       "      <th>id</th>\n",
       "      <th>connectionTime</th>\n",
       "      <th>disconnectTime</th>\n",
       "      <th>doneChargingTime</th>\n",
       "      <th>kWhDelivered</th>\n",
       "      <th>sessionID</th>\n",
       "      <th>siteID</th>\n",
       "      <th>spaceID</th>\n",
       "      <th>stationID</th>\n",
       "      <th>userID</th>\n",
       "      <th>userInputs_WhPerMile</th>\n",
       "      <th>userInputs_kWhRequested</th>\n",
       "      <th>userInputs_milesRequested</th>\n",
       "      <th>userInputs_minutesAvailable</th>\n",
       "      <th>userInputs_modifiedAt</th>\n",
       "      <th>userInputs_paymentRequired</th>\n",
       "      <th>userInputs_requestedDeparture</th>\n",
       "      <th>connectionDay</th>\n",
       "      <th>disconnectionDay</th>\n",
       "      <th>date_matches</th>\n",
       "    </tr>\n",
       "  </thead>\n",
       "  <tbody>\n",
       "    <tr>\n",
       "      <th>0</th>\n",
       "      <td>5e23b149f9af8b5fe4b973cf</td>\n",
       "      <td>2020-01-02 13:08:54+00:00</td>\n",
       "      <td>2020-01-02 19:11:15+00:00</td>\n",
       "      <td>2020-01-02 17:31:35+00:00</td>\n",
       "      <td>25.016</td>\n",
       "      <td>1_1_179_810_2020-01-02 13:08:53.870034</td>\n",
       "      <td>1</td>\n",
       "      <td>AG-3F30</td>\n",
       "      <td>1-1-179-810</td>\n",
       "      <td>194</td>\n",
       "      <td>250.0</td>\n",
       "      <td>25.0</td>\n",
       "      <td>100.0</td>\n",
       "      <td>463.0</td>\n",
       "      <td>Thu, 02 Jan 2020 13:09:39 GMT</td>\n",
       "      <td>True</td>\n",
       "      <td>Thu, 02 Jan 2020 20:51:54 GMT</td>\n",
       "      <td>2020-01-02</td>\n",
       "      <td>2020-01-02</td>\n",
       "      <td>True</td>\n",
       "    </tr>\n",
       "    <tr>\n",
       "      <th>1</th>\n",
       "      <td>5e23b149f9af8b5fe4b973d0</td>\n",
       "      <td>2020-01-02 13:36:50+00:00</td>\n",
       "      <td>2020-01-02 22:38:21+00:00</td>\n",
       "      <td>2020-01-02 20:18:05+00:00</td>\n",
       "      <td>33.097</td>\n",
       "      <td>1_1_193_825_2020-01-02 13:36:49.599853</td>\n",
       "      <td>1</td>\n",
       "      <td>AG-1F01</td>\n",
       "      <td>1-1-193-825</td>\n",
       "      <td>4275</td>\n",
       "      <td>280.0</td>\n",
       "      <td>70.0</td>\n",
       "      <td>250.0</td>\n",
       "      <td>595.0</td>\n",
       "      <td>Thu, 02 Jan 2020 13:37:11 GMT</td>\n",
       "      <td>True</td>\n",
       "      <td>Thu, 02 Jan 2020 23:31:50 GMT</td>\n",
       "      <td>2020-01-02</td>\n",
       "      <td>2020-01-02</td>\n",
       "      <td>True</td>\n",
       "    </tr>\n",
       "    <tr>\n",
       "      <th>2</th>\n",
       "      <td>5e23b149f9af8b5fe4b973d1</td>\n",
       "      <td>2020-01-02 13:56:35+00:00</td>\n",
       "      <td>2020-01-03 00:39:22+00:00</td>\n",
       "      <td>2020-01-02 16:35:06+00:00</td>\n",
       "      <td>6.521</td>\n",
       "      <td>1_1_193_829_2020-01-02 13:56:35.214993</td>\n",
       "      <td>1</td>\n",
       "      <td>AG-1F03</td>\n",
       "      <td>1-1-193-829</td>\n",
       "      <td>344</td>\n",
       "      <td>400.0</td>\n",
       "      <td>8.0</td>\n",
       "      <td>20.0</td>\n",
       "      <td>60.0</td>\n",
       "      <td>Thu, 02 Jan 2020 13:57:17 GMT</td>\n",
       "      <td>True</td>\n",
       "      <td>Thu, 02 Jan 2020 14:56:35 GMT</td>\n",
       "      <td>2020-01-02</td>\n",
       "      <td>2020-01-03</td>\n",
       "      <td>False</td>\n",
       "    </tr>\n",
       "    <tr>\n",
       "      <th>3</th>\n",
       "      <td>5e23b149f9af8b5fe4b973d2</td>\n",
       "      <td>2020-01-02 13:59:58+00:00</td>\n",
       "      <td>2020-01-02 16:38:39+00:00</td>\n",
       "      <td>2020-01-02 15:18:45+00:00</td>\n",
       "      <td>2.355</td>\n",
       "      <td>1_1_193_820_2020-01-02 13:59:58.309319</td>\n",
       "      <td>1</td>\n",
       "      <td>AG-1F04</td>\n",
       "      <td>1-1-193-820</td>\n",
       "      <td>1117</td>\n",
       "      <td>400.0</td>\n",
       "      <td>8.0</td>\n",
       "      <td>20.0</td>\n",
       "      <td>65.0</td>\n",
       "      <td>Thu, 02 Jan 2020 14:00:03 GMT</td>\n",
       "      <td>True</td>\n",
       "      <td>Thu, 02 Jan 2020 15:04:58 GMT</td>\n",
       "      <td>2020-01-02</td>\n",
       "      <td>2020-01-02</td>\n",
       "      <td>True</td>\n",
       "    </tr>\n",
       "    <tr>\n",
       "      <th>4</th>\n",
       "      <td>5e23b149f9af8b5fe4b973d3</td>\n",
       "      <td>2020-01-02 14:00:01+00:00</td>\n",
       "      <td>2020-01-02 22:08:40+00:00</td>\n",
       "      <td>2020-01-02 18:17:30+00:00</td>\n",
       "      <td>13.375</td>\n",
       "      <td>1_1_193_819_2020-01-02 14:00:00.779967</td>\n",
       "      <td>1</td>\n",
       "      <td>AG-1F06</td>\n",
       "      <td>1-1-193-819</td>\n",
       "      <td>334</td>\n",
       "      <td>400.0</td>\n",
       "      <td>8.0</td>\n",
       "      <td>20.0</td>\n",
       "      <td>65.0</td>\n",
       "      <td>Thu, 02 Jan 2020 14:00:19 GMT</td>\n",
       "      <td>True</td>\n",
       "      <td>Thu, 02 Jan 2020 15:04:58 GMT</td>\n",
       "      <td>2020-01-02</td>\n",
       "      <td>2020-01-02</td>\n",
       "      <td>True</td>\n",
       "    </tr>\n",
       "  </tbody>\n",
       "</table>\n",
       "</div>"
      ],
      "text/plain": [
       "                         id            connectionTime  \\\n",
       "0  5e23b149f9af8b5fe4b973cf 2020-01-02 13:08:54+00:00   \n",
       "1  5e23b149f9af8b5fe4b973d0 2020-01-02 13:36:50+00:00   \n",
       "2  5e23b149f9af8b5fe4b973d1 2020-01-02 13:56:35+00:00   \n",
       "3  5e23b149f9af8b5fe4b973d2 2020-01-02 13:59:58+00:00   \n",
       "4  5e23b149f9af8b5fe4b973d3 2020-01-02 14:00:01+00:00   \n",
       "\n",
       "             disconnectTime          doneChargingTime  kWhDelivered  \\\n",
       "0 2020-01-02 19:11:15+00:00 2020-01-02 17:31:35+00:00        25.016   \n",
       "1 2020-01-02 22:38:21+00:00 2020-01-02 20:18:05+00:00        33.097   \n",
       "2 2020-01-03 00:39:22+00:00 2020-01-02 16:35:06+00:00         6.521   \n",
       "3 2020-01-02 16:38:39+00:00 2020-01-02 15:18:45+00:00         2.355   \n",
       "4 2020-01-02 22:08:40+00:00 2020-01-02 18:17:30+00:00        13.375   \n",
       "\n",
       "                                sessionID  siteID  spaceID    stationID  \\\n",
       "0  1_1_179_810_2020-01-02 13:08:53.870034       1  AG-3F30  1-1-179-810   \n",
       "1  1_1_193_825_2020-01-02 13:36:49.599853       1  AG-1F01  1-1-193-825   \n",
       "2  1_1_193_829_2020-01-02 13:56:35.214993       1  AG-1F03  1-1-193-829   \n",
       "3  1_1_193_820_2020-01-02 13:59:58.309319       1  AG-1F04  1-1-193-820   \n",
       "4  1_1_193_819_2020-01-02 14:00:00.779967       1  AG-1F06  1-1-193-819   \n",
       "\n",
       "   userID  userInputs_WhPerMile  userInputs_kWhRequested  \\\n",
       "0     194                 250.0                     25.0   \n",
       "1    4275                 280.0                     70.0   \n",
       "2     344                 400.0                      8.0   \n",
       "3    1117                 400.0                      8.0   \n",
       "4     334                 400.0                      8.0   \n",
       "\n",
       "   userInputs_milesRequested  userInputs_minutesAvailable  \\\n",
       "0                      100.0                        463.0   \n",
       "1                      250.0                        595.0   \n",
       "2                       20.0                         60.0   \n",
       "3                       20.0                         65.0   \n",
       "4                       20.0                         65.0   \n",
       "\n",
       "           userInputs_modifiedAt userInputs_paymentRequired  \\\n",
       "0  Thu, 02 Jan 2020 13:09:39 GMT                       True   \n",
       "1  Thu, 02 Jan 2020 13:37:11 GMT                       True   \n",
       "2  Thu, 02 Jan 2020 13:57:17 GMT                       True   \n",
       "3  Thu, 02 Jan 2020 14:00:03 GMT                       True   \n",
       "4  Thu, 02 Jan 2020 14:00:19 GMT                       True   \n",
       "\n",
       "   userInputs_requestedDeparture connectionDay disconnectionDay  date_matches  \n",
       "0  Thu, 02 Jan 2020 20:51:54 GMT    2020-01-02       2020-01-02          True  \n",
       "1  Thu, 02 Jan 2020 23:31:50 GMT    2020-01-02       2020-01-02          True  \n",
       "2  Thu, 02 Jan 2020 14:56:35 GMT    2020-01-02       2020-01-03         False  \n",
       "3  Thu, 02 Jan 2020 15:04:58 GMT    2020-01-02       2020-01-02          True  \n",
       "4  Thu, 02 Jan 2020 15:04:58 GMT    2020-01-02       2020-01-02          True  "
      ]
     },
     "execution_count": 45,
     "metadata": {},
     "output_type": "execute_result"
    }
   ],
   "source": [
    "charging_copy = charging.copy()\n",
    "\n",
    "\n",
    "charging.head()"
   ]
  },
  {
   "cell_type": "code",
   "execution_count": 46,
   "metadata": {},
   "outputs": [
    {
     "ename": "NameError",
     "evalue": "name 'user_inputs_columns' is not defined",
     "output_type": "error",
     "traceback": [
      "\u001b[1;31m---------------------------------------------------------------------------\u001b[0m",
      "\u001b[1;31mNameError\u001b[0m                                 Traceback (most recent call last)",
      "Cell \u001b[1;32mIn[46], line 1\u001b[0m\n\u001b[1;32m----> 1\u001b[0m \u001b[38;5;28;01mfor\u001b[39;00m column \u001b[38;5;129;01min\u001b[39;00m \u001b[43muser_inputs_columns\u001b[49m\u001b[38;5;241m.\u001b[39mcolumns:\n\u001b[0;32m      2\u001b[0m     \u001b[38;5;66;03m# Check if the column is numeric\u001b[39;00m\n\u001b[0;32m      3\u001b[0m     \u001b[38;5;28;01mif\u001b[39;00m pd\u001b[38;5;241m.\u001b[39mapi\u001b[38;5;241m.\u001b[39mtypes\u001b[38;5;241m.\u001b[39mis_numeric_dtype(charging_copy[column]):\n\u001b[0;32m      4\u001b[0m         mean_value \u001b[38;5;241m=\u001b[39m charging_copy[column]\u001b[38;5;241m.\u001b[39mmean(skipna\u001b[38;5;241m=\u001b[39m\u001b[38;5;28;01mTrue\u001b[39;00m)  \u001b[38;5;66;03m# calculate mean of non-null values\u001b[39;00m\n",
      "\u001b[1;31mNameError\u001b[0m: name 'user_inputs_columns' is not defined"
     ]
    }
   ],
   "source": [
    "for column in user_inputs_columns.columns:\n",
    "    # Check if the column is numeric\n",
    "    if pd.api.types.is_numeric_dtype(charging_copy[column]):\n",
    "        mean_value = charging_copy[column].mean(skipna=True)  # calculate mean of non-null values\n",
    "        charging_copy[column].fillna(mean_value, inplace=True)  # replace nulls with mean\n"
   ]
  },
  {
   "cell_type": "code",
   "execution_count": 48,
   "metadata": {},
   "outputs": [
    {
     "name": "stdout",
     "output_type": "stream",
     "text": [
      "id                                   0\n",
      "connectionTime                       0\n",
      "disconnectTime                       0\n",
      "doneChargingTime                     0\n",
      "kWhDelivered                         0\n",
      "sessionID                            0\n",
      "siteID                               0\n",
      "spaceID                              0\n",
      "stationID                            0\n",
      "userID                               0\n",
      "userInputs_WhPerMile                 0\n",
      "userInputs_kWhRequested              0\n",
      "userInputs_milesRequested            0\n",
      "userInputs_minutesAvailable          0\n",
      "userInputs_modifiedAt            16867\n",
      "userInputs_paymentRequired       16867\n",
      "userInputs_requestedDeparture    16867\n",
      "connectionDay                        0\n",
      "disconnectionDay                     0\n",
      "date_matches                         0\n",
      "dtype: int64\n"
     ]
    }
   ],
   "source": [
    "print(charging_copy.isnull().sum())"
   ]
  },
  {
   "cell_type": "markdown",
   "metadata": {},
   "source": [
    "Now all numeric varaibles are replaced with the mean of their respective column. The last null rows are the modifiedAt, requestedDeparture and paymentrequired(boolean)."
   ]
  },
  {
   "cell_type": "markdown",
   "metadata": {},
   "source": [
    "As we see below, there isn't a single row in the column \"paymentRequired\" which has the value \"False\". This could maybe mean that the rows with paymentRequired are registered users while the one in which it is null are unregistered users"
   ]
  },
  {
   "cell_type": "code",
   "execution_count": 49,
   "metadata": {},
   "outputs": [
    {
     "name": "stdout",
     "output_type": "stream",
     "text": [
      "Number of True values in 'userInputs_paymentRequired': 49583\n",
      "Number of False values in 'userInputs_paymentRequired': 0\n"
     ]
    }
   ],
   "source": [
    "true_count = (charging_copy['userInputs_paymentRequired'] == True).sum()\n",
    "\n",
    "print(f\"Number of True values in 'userInputs_paymentRequired': {true_count}\")\n",
    "\n",
    "false_count = (charging_copy['userInputs_paymentRequired'] == False).sum()\n",
    "\n",
    "print(f\"Number of False values in 'userInputs_paymentRequired': {false_count}\")\n",
    "\n"
   ]
  },
  {
   "cell_type": "code",
   "execution_count": 50,
   "metadata": {},
   "outputs": [
    {
     "data": {
      "image/png": "[encoded data removed]",
      "text/plain": [
       "<Figure size 500x500 with 1 Axes>"
      ]
     },
     "metadata": {},
     "output_type": "display_data"
    }
   ],
   "source": [
    "#plot number of nul values in paymentRequried for each site\n",
    "null_counts_per_site = charging.groupby('siteID')[\"userInputs_paymentRequired\"].apply(lambda x: x.isnull().sum())\n",
    "\n",
    "\n",
    "null_counts_per_site.plot(kind='bar', color='skyblue', figsize=(5, 5))\n",
    "\n",
    "plt.title('Null Value number for paymentRequired by Site', fontsize=10)\n",
    "plt.ylabel('Count of Nulls', fontsize=12)\n",
    "plt.xlabel('SiteID', fontsize=12)\n",
    "plt.xticks(rotation=0, fontsize=10)\n",
    "plt.tight_layout()\n",
    "plt.show()\n"
   ]
  },
  {
   "cell_type": "code",
   "execution_count": 51,
   "metadata": {},
   "outputs": [],
   "source": [
    "charging.to_csv('modified_data.csv', index=False)"
   ]
  }
 ],
 "metadata": {
  "kernelspec": {
   "display_name": "base",
   "language": "python",
   "name": "python3"
  },
  "language_info": {
   "codemirror_mode": {
    "name": "ipython",
    "version": 3
   },
   "file_extension": ".py",
   "mimetype": "text/x-python",
   "name": "python",
   "nbconvert_exporter": "python",
   "pygments_lexer": "ipython3",
   "version": "3.10.8"
  }
 },
 "nbformat": 4,
 "nbformat_minor": 2
}
