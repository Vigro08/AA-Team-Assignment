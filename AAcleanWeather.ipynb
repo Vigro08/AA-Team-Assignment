{
 "cells": [
  {
   "cell_type": "code",
   "execution_count": 93,
   "metadata": {},
   "outputs": [],
   "source": [
    "# import all relevant libraries\n",
    "import pandas as pd\n",
    "import numpy as np\n",
    "import uuid\n",
    "import re\n",
    "import json\n",
    "from pandas.plotting import register_matplotlib_converters\n",
    "from pandas import json_normalize"
   ]
  },
  {
   "cell_type": "code",
   "execution_count": 94,
   "metadata": {},
   "outputs": [
    {
     "data": {
      "text/html": [
       "<div>\n",
       "<style scoped>\n",
       "    .dataframe tbody tr th:only-of-type {\n",
       "        vertical-align: middle;\n",
       "    }\n",
       "\n",
       "    .dataframe tbody tr th {\n",
       "        vertical-align: top;\n",
       "    }\n",
       "\n",
       "    .dataframe thead th {\n",
       "        text-align: right;\n",
       "    }\n",
       "</style>\n",
       "<table border=\"1\" class=\"dataframe\">\n",
       "  <thead>\n",
       "    <tr style=\"text-align: right;\">\n",
       "      <th></th>\n",
       "      <th>city</th>\n",
       "      <th>timestamp</th>\n",
       "      <th>temperature</th>\n",
       "      <th>cloud_cover</th>\n",
       "      <th>cloud_cover_description</th>\n",
       "      <th>pressure</th>\n",
       "      <th>windspeed</th>\n",
       "      <th>precipitation</th>\n",
       "      <th>felt_temperature</th>\n",
       "    </tr>\n",
       "  </thead>\n",
       "  <tbody>\n",
       "    <tr>\n",
       "      <th>0</th>\n",
       "      <td>Burbank</td>\n",
       "      <td>2018-01-01 08:53:00</td>\n",
       "      <td>9.0</td>\n",
       "      <td>33.0</td>\n",
       "      <td>Fair</td>\n",
       "      <td>991.75</td>\n",
       "      <td>9.0</td>\n",
       "      <td>0.0</td>\n",
       "      <td>8.0</td>\n",
       "    </tr>\n",
       "    <tr>\n",
       "      <th>1</th>\n",
       "      <td>Burbank</td>\n",
       "      <td>2018-01-01 09:53:00</td>\n",
       "      <td>9.0</td>\n",
       "      <td>33.0</td>\n",
       "      <td>Fair</td>\n",
       "      <td>992.08</td>\n",
       "      <td>0.0</td>\n",
       "      <td>0.0</td>\n",
       "      <td>9.0</td>\n",
       "    </tr>\n",
       "    <tr>\n",
       "      <th>2</th>\n",
       "      <td>Burbank</td>\n",
       "      <td>2018-01-01 10:53:00</td>\n",
       "      <td>9.0</td>\n",
       "      <td>21.0</td>\n",
       "      <td>Haze</td>\n",
       "      <td>992.08</td>\n",
       "      <td>0.0</td>\n",
       "      <td>0.0</td>\n",
       "      <td>9.0</td>\n",
       "    </tr>\n",
       "    <tr>\n",
       "      <th>3</th>\n",
       "      <td>Burbank</td>\n",
       "      <td>2018-01-01 11:53:00</td>\n",
       "      <td>9.0</td>\n",
       "      <td>29.0</td>\n",
       "      <td>Partly Cloudy</td>\n",
       "      <td>992.08</td>\n",
       "      <td>0.0</td>\n",
       "      <td>0.0</td>\n",
       "      <td>9.0</td>\n",
       "    </tr>\n",
       "    <tr>\n",
       "      <th>4</th>\n",
       "      <td>Burbank</td>\n",
       "      <td>2018-01-01 12:53:00</td>\n",
       "      <td>8.0</td>\n",
       "      <td>33.0</td>\n",
       "      <td>Fair</td>\n",
       "      <td>992.08</td>\n",
       "      <td>0.0</td>\n",
       "      <td>0.0</td>\n",
       "      <td>8.0</td>\n",
       "    </tr>\n",
       "  </tbody>\n",
       "</table>\n",
       "</div>"
      ],
      "text/plain": [
       "      city            timestamp  temperature  cloud_cover  \\\n",
       "0  Burbank  2018-01-01 08:53:00          9.0         33.0   \n",
       "1  Burbank  2018-01-01 09:53:00          9.0         33.0   \n",
       "2  Burbank  2018-01-01 10:53:00          9.0         21.0   \n",
       "3  Burbank  2018-01-01 11:53:00          9.0         29.0   \n",
       "4  Burbank  2018-01-01 12:53:00          8.0         33.0   \n",
       "\n",
       "  cloud_cover_description  pressure  windspeed  precipitation  \\\n",
       "0                    Fair    991.75        9.0            0.0   \n",
       "1                    Fair    992.08        0.0            0.0   \n",
       "2                    Haze    992.08        0.0            0.0   \n",
       "3           Partly Cloudy    992.08        0.0            0.0   \n",
       "4                    Fair    992.08        0.0            0.0   \n",
       "\n",
       "   felt_temperature  \n",
       "0               8.0  \n",
       "1               9.0  \n",
       "2               9.0  \n",
       "3               9.0  \n",
       "4               8.0  "
      ]
     },
     "execution_count": 94,
     "metadata": {},
     "output_type": "execute_result"
    }
   ],
   "source": [
    "# import weather data\n",
    "weather = pd.read_csv(\"weather_burbank_airport.csv\", encoding = \"ISO-8859-1\")\n",
    "weather.head()"
   ]
  },
  {
   "cell_type": "code",
   "execution_count": 95,
   "metadata": {},
   "outputs": [
    {
     "name": "stdout",
     "output_type": "stream",
     "text": [
      "['Burbank']\n"
     ]
    }
   ],
   "source": [
    "print(weather['city'].unique())"
   ]
  },
  {
   "cell_type": "code",
   "execution_count": 96,
   "metadata": {},
   "outputs": [
    {
     "name": "stdout",
     "output_type": "stream",
     "text": [
      "<class 'pandas.core.frame.DataFrame'>\n",
      "RangeIndex: 29244 entries, 0 to 29243\n",
      "Data columns (total 8 columns):\n",
      " #   Column                   Non-Null Count  Dtype  \n",
      "---  ------                   --------------  -----  \n",
      " 0   timestamp                29244 non-null  object \n",
      " 1   temperature              29219 non-null  float64\n",
      " 2   cloud_cover              29224 non-null  float64\n",
      " 3   cloud_cover_description  29224 non-null  object \n",
      " 4   pressure                 29236 non-null  float64\n",
      " 5   windspeed                29158 non-null  float64\n",
      " 6   precipitation            29244 non-null  float64\n",
      " 7   felt_temperature         29218 non-null  float64\n",
      "dtypes: float64(6), object(2)\n",
      "memory usage: 1.8+ MB\n"
     ]
    }
   ],
   "source": [
    "#Remove first Column because every cell has the same value (Burbank).\n",
    "weather = weather.drop(columns=['city'])\n",
    "weather.info()"
   ]
  },
  {
   "cell_type": "code",
   "execution_count": 97,
   "metadata": {},
   "outputs": [
    {
     "name": "stdout",
     "output_type": "stream",
     "text": [
      "timestamp                  datetime64[ns]\n",
      "temperature                       float64\n",
      "cloud_cover                       float64\n",
      "cloud_cover_description            object\n",
      "pressure                          float64\n",
      "windspeed                         float64\n",
      "precipitation                     float64\n",
      "felt_temperature                  float64\n",
      "dtype: object\n"
     ]
    }
   ],
   "source": [
    "#convert to correct datetime\n",
    "weather['timestamp'] = pd.to_datetime(weather['timestamp'])\n",
    "print(weather.dtypes)"
   ]
  },
  {
   "cell_type": "code",
   "execution_count": 98,
   "metadata": {},
   "outputs": [
    {
     "name": "stdout",
     "output_type": "stream",
     "text": [
      "timestamp                   0\n",
      "temperature                25\n",
      "cloud_cover                20\n",
      "cloud_cover_description    20\n",
      "pressure                    8\n",
      "windspeed                  86\n",
      "precipitation               0\n",
      "felt_temperature           26\n",
      "dtype: int64\n"
     ]
    }
   ],
   "source": [
    "# print for each row how many null values there are\n",
    "print(weather.isna().sum())"
   ]
  },
  {
   "cell_type": "markdown",
   "metadata": {},
   "source": [
    "We have 22 different types of description (one category is NaN)"
   ]
  },
  {
   "cell_type": "code",
   "execution_count": 99,
   "metadata": {},
   "outputs": [],
   "source": [
    "# Replace null values in temperature with mean\n",
    "weather['temperature'] = weather['temperature'].fillna(weather['temperature'].mean(skipna=True))\n",
    "\n",
    "# Replace null values in cloud_cover with mean\n",
    "weather['cloud_cover'] = weather['cloud_cover'].fillna(weather['cloud_cover'].mean(skipna=True)) \n",
    "\n",
    "#Replace null values of windspeed with median as the data is not normal distributed (see code right below)\n",
    "weather['windspeed'] = weather['windspeed'].fillna(weather['cloud_cover'].median(skipna=True)) \n"
   ]
  },
  {
   "cell_type": "code",
   "execution_count": 100,
   "metadata": {},
   "outputs": [
    {
     "data": {
      "image/png": "[encoded data removed]",
      "text/plain": [
       "<Figure size 640x480 with 1 Axes>"
      ]
     },
     "metadata": {},
     "output_type": "display_data"
    }
   ],
   "source": [
    "import matplotlib.pyplot as plt\n",
    "\n",
    "# Show distribution of windspeed in histogram\n",
    "weather['windspeed'].hist(bins=30, edgecolor='black')\n",
    "\n",
    "plt.title('Distribution of Windspeed')\n",
    "plt.xlabel('Windspeed')\n",
    "plt.ylabel('Frequency')\n",
    "plt.show()\n",
    "\n"
   ]
  },
  {
   "cell_type": "markdown",
   "metadata": {},
   "source": [
    "<h5/>Fill the null values for cloud_cover description with forward propagating because each row always has a difference of one hour and the dataset is already sorted by date -> description of a null value and its predecessor should be very similar because in a span of one hour, the cloud_cover description shouldn't change that much"
   ]
  },
  {
   "cell_type": "code",
   "execution_count": 101,
   "metadata": {},
   "outputs": [],
   "source": [
    "weather['cloud_cover_description'] = weather['cloud_cover_description'].ffill()"
   ]
  },
  {
   "cell_type": "code",
   "execution_count": 102,
   "metadata": {},
   "outputs": [],
   "source": [
    "weather.to_csv('weather_cleaned.csv', index=False)"
   ]
  }
 ],
 "metadata": {
  "kernelspec": {
   "display_name": "base",
   "language": "python",
   "name": "python3"
  },
  "language_info": {
   "codemirror_mode": {
    "name": "ipython",
    "version": 3
   },
   "file_extension": ".py",
   "mimetype": "text/x-python",
   "name": "python",
   "nbconvert_exporter": "python",
   "pygments_lexer": "ipython3",
   "version": "3.12.7"
  }
 },
 "nbformat": 4,
 "nbformat_minor": 2
}
